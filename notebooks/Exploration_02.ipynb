{
  "cells": [
    {
      "cell_type": "markdown",
      "metadata": {
        "id": "LB9TN5GKEyhw"
      },
      "source": [
        "# Data Exploration 02\n",
        "\n",
        "You're working as a data analyst at a cereal marketing company in New York. \n",
        "\n",
        "In a strategy meeting, the marketing director tells you that in 2018, the US weight loss industry was worth over $72 Billion dollars, growing 4% compared to the previous year.\n",
        "\n",
        "In contrast, sales of cold cereal fell 6% to $8.5 billion during the same time period.\n",
        "\n",
        "Cereal executives have approached the marketing company asking how they can somehow tap into the weight loss market growth to boost the sales of their cereal brands.\n",
        "\n",
        "Your assignment is to analyze a dataset of nutritional information for major US cereals, and calculate some metrics that can be used by the marketing team."
      ]
    },
    {
      "cell_type": "markdown",
      "metadata": {
        "id": "agqlq8RKFbry"
      },
      "source": [
        "## Part 1: Import Pandas and load the data\n",
        "\n",
        "Remember to import Pandas the conventional way. If you've forgotten how, you may want to review [Data Exploration 01](https://byui-cse.github.io/cse450-course/module-01/exploration-01.html).\n",
        "\n",
        "The dataset for this exploration is stored at the following url:\n",
        "\n",
        "[https://raw.githubusercontent.com/byui-cse/cse450-course/master/data/cereal.csv](https://raw.githubusercontent.com/byui-cse/cse450-course/master/data/cereal.csv)\n",
        "\n",
        "There are lots of ways to load data into your workspace. The easiest way in this case is to [ask Pandas to do it for you](https://pandas.pydata.org/docs/getting_started/intro_tutorials/02_read_write.html).\n",
        "\n",
        "### Initial Data Analysis\n",
        "Once you've loaded the data, it's a good idea to poke around a little bit to find out what you're dealing with.\n",
        "\n",
        "Some questions you might ask include:\n",
        "\n",
        "* What does the data look like?\n",
        "* What kind of data is in each column? \n",
        "* Do any of the columns have missing values? "
      ]
    },
    {
      "cell_type": "code",
      "execution_count": 9,
      "metadata": {
        "id": "14b9y6LKEvEm",
        "vscode": {
          "languageId": "python"
        },
        "outputId": "f1f5ebc9-9a05-44bb-df12-38d6b4fdaf75",
        "colab": {
          "base_uri": "https://localhost:8080/"
        }
      },
      "outputs": [
        {
          "output_type": "stream",
          "name": "stdout",
          "text": [
            "         calories    protein        fat      sodium      fiber      carbo  \\\n",
            "count   77.000000  77.000000  77.000000   77.000000  77.000000  77.000000   \n",
            "mean   106.883117   2.545455   1.012987  159.675325   2.151948  14.597403   \n",
            "std     19.484119   1.094790   1.006473   83.832295   2.383364   4.278956   \n",
            "min     50.000000   1.000000   0.000000    0.000000   0.000000  -1.000000   \n",
            "25%    100.000000   2.000000   0.000000  130.000000   1.000000  12.000000   \n",
            "50%    110.000000   3.000000   1.000000  180.000000   2.000000  14.000000   \n",
            "75%    110.000000   3.000000   2.000000  210.000000   3.000000  17.000000   \n",
            "max    160.000000   6.000000   5.000000  320.000000  14.000000  23.000000   \n",
            "\n",
            "          sugars      potass    vitamins      shelf     weight       cups  \\\n",
            "count  77.000000   77.000000   77.000000  77.000000  77.000000  77.000000   \n",
            "mean    6.922078   96.077922   28.246753   2.207792   1.029610   0.821039   \n",
            "std     4.444885   71.286813   22.342523   0.832524   0.150477   0.232716   \n",
            "min    -1.000000   -1.000000    0.000000   1.000000   0.500000   0.250000   \n",
            "25%     3.000000   40.000000   25.000000   1.000000   1.000000   0.670000   \n",
            "50%     7.000000   90.000000   25.000000   2.000000   1.000000   0.750000   \n",
            "75%    11.000000  120.000000   25.000000   3.000000   1.000000   1.000000   \n",
            "max    15.000000  330.000000  100.000000   3.000000   1.500000   1.500000   \n",
            "\n",
            "          rating  \n",
            "count  77.000000  \n",
            "mean   42.665705  \n",
            "std    14.047289  \n",
            "min    18.042851  \n",
            "25%    33.174094  \n",
            "50%    40.400208  \n",
            "75%    50.828392  \n",
            "max    93.704912  \n",
            "<class 'pandas.core.frame.DataFrame'>\n",
            "RangeIndex: 77 entries, 0 to 76\n",
            "Data columns (total 16 columns):\n",
            " #   Column    Non-Null Count  Dtype  \n",
            "---  ------    --------------  -----  \n",
            " 0   name      77 non-null     object \n",
            " 1   mfr       77 non-null     object \n",
            " 2   type      77 non-null     object \n",
            " 3   calories  77 non-null     int64  \n",
            " 4   protein   77 non-null     int64  \n",
            " 5   fat       77 non-null     int64  \n",
            " 6   sodium    77 non-null     int64  \n",
            " 7   fiber     77 non-null     float64\n",
            " 8   carbo     77 non-null     float64\n",
            " 9   sugars    77 non-null     int64  \n",
            " 10  potass    77 non-null     int64  \n",
            " 11  vitamins  77 non-null     int64  \n",
            " 12  shelf     77 non-null     int64  \n",
            " 13  weight    77 non-null     float64\n",
            " 14  cups      77 non-null     float64\n",
            " 15  rating    77 non-null     float64\n",
            "dtypes: float64(5), int64(8), object(3)\n",
            "memory usage: 9.8+ KB\n",
            "None\n",
            "name         object\n",
            "mfr          object\n",
            "type         object\n",
            "calories      int64\n",
            "protein       int64\n",
            "fat           int64\n",
            "sodium        int64\n",
            "fiber       float64\n",
            "carbo       float64\n",
            "sugars        int64\n",
            "potass        int64\n",
            "vitamins      int64\n",
            "shelf         int64\n",
            "weight      float64\n",
            "cups        float64\n",
            "rating      float64\n",
            "dtype: object\n"
          ]
        }
      ],
      "source": [
        "# Part 1: Enter your code below to import Pandas according to the \n",
        "# conventional method. Then load the dataset into a Pandas dataframe.\n",
        "import pandas as pd\n",
        "# Definitions: Mean: The average value of the data. \n",
        "# Mode: The most common occurring value in a set of data. \n",
        "# Standard Deviation: The average difference between any given value and the mean\n",
        "# Write any code needed to explore the data by seeing what the first few \n",
        "# rows look like. Then display a technical summary of the data to determine\n",
        "# the data types of each column, and which columns have missing data.\n",
        "cereal_data = pd.read_csv(\"https://raw.githubusercontent.com/byui-cse/cse450-course/master/data/cereal.csv\")\n",
        "print(cereal_data.describe())\n",
        "print(cereal_data.info())\n",
        "print(cereal_data.dtypes)"
      ]
    },
    {
      "cell_type": "code",
      "execution_count": null,
      "metadata": {
        "id": "B22TljfpPtpT",
        "vscode": {
          "languageId": "python"
        }
      },
      "outputs": [],
      "source": [
        "# There's no missing values and it seems like we're primarily dealing with numbers. "
      ]
    },
    {
      "cell_type": "markdown",
      "metadata": {
        "id": "q-O80D5JH9yA"
      },
      "source": [
        "## Part 2: Calculate Summary Statistics\n",
        "\n",
        "The marketing team has determined that when choosing a cereal, consumers are most interested in `calories`, `sugar`, `fiber`, `fat`, and `protein`.\n",
        "\n",
        "First, let's calcuate some summary statistics for these categories across the entire dataset. We're particularly intrested in the mean, median, standard deviation, min, and max values. \n",
        "\n",
        "There are [multiple ways to accomplish this](https://pandas.pydata.org/docs/getting_started/intro_tutorials/06_calculate_statistics.html)."
      ]
    },
    {
      "cell_type": "code",
      "execution_count": 14,
      "metadata": {
        "id": "AMKxXySGJVnC",
        "vscode": {
          "languageId": "python"
        },
        "outputId": "9da45298-2ab0-4b59-fa9d-8a2de9dd7438",
        "colab": {
          "base_uri": "https://localhost:8080/"
        }
      },
      "outputs": [
        {
          "output_type": "stream",
          "name": "stdout",
          "text": [
            "         calories     sugars      fiber        fat    protein\n",
            "count   77.000000  77.000000  77.000000  77.000000  77.000000\n",
            "mean   106.883117   6.922078   2.151948   1.012987   2.545455\n",
            "std     19.484119   4.444885   2.383364   1.006473   1.094790\n",
            "min     50.000000  -1.000000   0.000000   0.000000   1.000000\n",
            "25%    100.000000   3.000000   1.000000   0.000000   2.000000\n",
            "50%    110.000000   7.000000   2.000000   1.000000   3.000000\n",
            "75%    110.000000  11.000000   3.000000   2.000000   3.000000\n",
            "max    160.000000  15.000000  14.000000   5.000000   6.000000\n",
            "calories    110.0\n",
            "sugars        7.0\n",
            "fiber         2.0\n",
            "fat           1.0\n",
            "protein       3.0\n",
            "dtype: float64\n"
          ]
        }
      ],
      "source": [
        "# Part 2: Enter your code below to calculate summary statistics for the \n",
        "# calories, sugars, fiber, fat, and protein features.\n",
        "filtered_data = cereal_data[[\"calories\", \"sugars\", \"fiber\", \"fat\", \"protein\"]]\n",
        "print(filtered_data.describe())\n",
        "print(filtered_data.median())"
      ]
    },
    {
      "cell_type": "markdown",
      "metadata": {
        "id": "CqdAa4EfJ9T0"
      },
      "source": [
        "## Part 3: Transform Data\n",
        "\n",
        "To make analysis easier, you want to convert the manufacturer codes used in the dataset to the manufacturer names. \n",
        "\n",
        "First, display the count of each manufacturer code value used in the dataset (found in the `mfr` column). \n",
        "\n",
        "Then, [create a new column with the appropriate manufacturer name for each entry](https://pandas.pydata.org/docs/getting_started/intro_tutorials/10_text_data.html), using this mapping:\n",
        "\n",
        "    A = American Home Food Products\n",
        "    G = General Mills\n",
        "    K = Kelloggs\n",
        "    N = Nabisco\n",
        "    P = Post\n",
        "    Q = Quaker Oats\n",
        "    R = Ralston Purina\n",
        "\n",
        "> Note: While the tutorial linked above uses the [`replace`](https://pandas.pydata.org/pandas-docs/stable/reference/api/pandas.Series.replace.html) function, using the [`map`](https://pandas.pydata.org/pandas-docs/stable/reference/api/pandas.Series.map.html) function instead can often be much faster and more memory efficient, especially for large datasets."
      ]
    },
    {
      "cell_type": "code",
      "execution_count": 18,
      "metadata": {
        "id": "i8wdC-qpPjqF",
        "vscode": {
          "languageId": "python"
        },
        "outputId": "7dcde4bf-a7a0-4a43-a159-4d26308c5502",
        "colab": {
          "base_uri": "https://localhost:8080/"
        }
      },
      "outputs": [
        {
          "output_type": "stream",
          "name": "stdout",
          "text": [
            "     mfr\n",
            "mfr     \n",
            "A      1\n",
            "G     22\n",
            "K     23\n",
            "N      6\n",
            "P      9\n",
            "Q      8\n",
            "R      8\n",
            "                         name mfr type  calories  protein  fat  sodium  fiber  \\\n",
            "0                   100% Bran   N    C        70        4    1     130   10.0   \n",
            "1           100% Natural Bran   Q    C       120        3    5      15    2.0   \n",
            "2                    All-Bran   K    C        70        4    1     260    9.0   \n",
            "3   All-Bran with Extra Fiber   K    C        50        4    0     140   14.0   \n",
            "4              Almond Delight   R    C       110        2    2     200    1.0   \n",
            "..                        ...  ..  ...       ...      ...  ...     ...    ...   \n",
            "72                    Triples   G    C       110        2    1     250    0.0   \n",
            "73                       Trix   G    C       110        1    1     140    0.0   \n",
            "74                 Wheat Chex   R    C       100        3    1     230    3.0   \n",
            "75                   Wheaties   G    C       100        3    1     200    3.0   \n",
            "76        Wheaties Honey Gold   G    C       110        2    1     200    1.0   \n",
            "\n",
            "    carbo  sugars  potass  vitamins  shelf  weight  cups     rating  \\\n",
            "0     5.0       6     280        25      3     1.0  0.33  68.402973   \n",
            "1     8.0       8     135         0      3     1.0  1.00  33.983679   \n",
            "2     7.0       5     320        25      3     1.0  0.33  59.425505   \n",
            "3     8.0       0     330        25      3     1.0  0.50  93.704912   \n",
            "4    14.0       8      -1        25      3     1.0  0.75  34.384843   \n",
            "..    ...     ...     ...       ...    ...     ...   ...        ...   \n",
            "72   21.0       3      60        25      3     1.0  0.75  39.106174   \n",
            "73   13.0      12      25        25      2     1.0  1.00  27.753301   \n",
            "74   17.0       3     115        25      1     1.0  0.67  49.787445   \n",
            "75   17.0       3     110        25      1     1.0  1.00  51.592193   \n",
            "76   16.0       8      60        25      1     1.0  0.75  36.187559   \n",
            "\n",
            "   manufacturer-name  \n",
            "0            Nabisco  \n",
            "1        Quaker Oats  \n",
            "2           Kelloggs  \n",
            "3           Kelloggs  \n",
            "4     Ralston Purina  \n",
            "..               ...  \n",
            "72     General Mills  \n",
            "73     General Mills  \n",
            "74    Ralston Purina  \n",
            "75     General Mills  \n",
            "76     General Mills  \n",
            "\n",
            "[77 rows x 17 columns]\n"
          ]
        }
      ],
      "source": [
        "# Display the count of values for the manufacturer code (\"mfr\" column), then \n",
        "# create a new column containing the appropriate manufacturer names.\n",
        "mfr_group = cereal_data.groupby(\"mfr\").agg({\"mfr\":\"count\"})\n",
        "print(mfr_group)\n",
        "mfr_names = {\n",
        "    \"A\" : \"American Home Food Products\",\n",
        "    \"G\" : \"General Mills\", \n",
        "    \"K\" : \"Kelloggs\",\n",
        "    \"N\" : \"Nabisco\",\n",
        "    \"P\" : \"Post\",\n",
        "    \"Q\" : \"Quaker Oats\",\n",
        "    \"R\" : \"Ralston Purina\"\n",
        "}\n",
        "\n",
        "cereal_data[\"manufacturer-name\"] = cereal_data[\"mfr\"].map(mfr_names)\n",
        "print(cereal_data)"
      ]
    },
    {
      "cell_type": "markdown",
      "metadata": {
        "id": "cl30h29pWp26"
      },
      "source": [
        "## Part 4: Visualization \n",
        "\n",
        "Let's do some more data exploration visually.\n",
        "\n",
        "Import your visualization library of choice and set any needed configuration options."
      ]
    },
    {
      "cell_type": "code",
      "execution_count": 19,
      "metadata": {
        "id": "6UZKj1yMXTYg",
        "vscode": {
          "languageId": "python"
        }
      },
      "outputs": [],
      "source": [
        "# Import your visualization library\n",
        "import altair as alt"
      ]
    },
    {
      "cell_type": "markdown",
      "metadata": {
        "id": "AWlh7ipsXaYM"
      },
      "source": [
        "### Sugar Distribution\n",
        "\n",
        "Marketing tells us that their surveys have revealed that sugar content is the number one concern of consumers when choosing cereal.\n",
        "\n",
        "They would like to see the following visualizations:\n",
        "\n",
        "*  A histogram plot of the sugar content in all cereals.\n",
        "\n",
        "* A scatter plot showing the relationship between sugar and calories.\n",
        "\n",
        "* A box plot showing the distribution of sugar content by manufacturer."
      ]
    },
    {
      "cell_type": "code",
      "execution_count": 26,
      "metadata": {
        "id": "-T6xRLvAYJIf",
        "vscode": {
          "languageId": "python"
        },
        "outputId": "11f00ba5-4524-44a1-9ee3-e329f674fa9e",
        "colab": {
          "base_uri": "https://localhost:8080/",
          "height": 498
        }
      },
      "outputs": [
        {
          "output_type": "execute_result",
          "data": {
            "text/html": [
              "\n",
              "<div id=\"altair-viz-0061e993dde94d39be331e6312a2ba4d\"></div>\n",
              "<script type=\"text/javascript\">\n",
              "  var VEGA_DEBUG = (typeof VEGA_DEBUG == \"undefined\") ? {} : VEGA_DEBUG;\n",
              "  (function(spec, embedOpt){\n",
              "    let outputDiv = document.currentScript.previousElementSibling;\n",
              "    if (outputDiv.id !== \"altair-viz-0061e993dde94d39be331e6312a2ba4d\") {\n",
              "      outputDiv = document.getElementById(\"altair-viz-0061e993dde94d39be331e6312a2ba4d\");\n",
              "    }\n",
              "    const paths = {\n",
              "      \"vega\": \"https://cdn.jsdelivr.net/npm//vega@5?noext\",\n",
              "      \"vega-lib\": \"https://cdn.jsdelivr.net/npm//vega-lib?noext\",\n",
              "      \"vega-lite\": \"https://cdn.jsdelivr.net/npm//vega-lite@4.17.0?noext\",\n",
              "      \"vega-embed\": \"https://cdn.jsdelivr.net/npm//vega-embed@6?noext\",\n",
              "    };\n",
              "\n",
              "    function maybeLoadScript(lib, version) {\n",
              "      var key = `${lib.replace(\"-\", \"\")}_version`;\n",
              "      return (VEGA_DEBUG[key] == version) ?\n",
              "        Promise.resolve(paths[lib]) :\n",
              "        new Promise(function(resolve, reject) {\n",
              "          var s = document.createElement('script');\n",
              "          document.getElementsByTagName(\"head\")[0].appendChild(s);\n",
              "          s.async = true;\n",
              "          s.onload = () => {\n",
              "            VEGA_DEBUG[key] = version;\n",
              "            return resolve(paths[lib]);\n",
              "          };\n",
              "          s.onerror = () => reject(`Error loading script: ${paths[lib]}`);\n",
              "          s.src = paths[lib];\n",
              "        });\n",
              "    }\n",
              "\n",
              "    function showError(err) {\n",
              "      outputDiv.innerHTML = `<div class=\"error\" style=\"color:red;\">${err}</div>`;\n",
              "      throw err;\n",
              "    }\n",
              "\n",
              "    function displayChart(vegaEmbed) {\n",
              "      vegaEmbed(outputDiv, spec, embedOpt)\n",
              "        .catch(err => showError(`Javascript Error: ${err.message}<br>This usually means there's a typo in your chart specification. See the javascript console for the full traceback.`));\n",
              "    }\n",
              "\n",
              "    if(typeof define === \"function\" && define.amd) {\n",
              "      requirejs.config({paths});\n",
              "      require([\"vega-embed\"], displayChart, err => showError(`Error loading script: ${err.message}`));\n",
              "    } else {\n",
              "      maybeLoadScript(\"vega\", \"5\")\n",
              "        .then(() => maybeLoadScript(\"vega-lite\", \"4.17.0\"))\n",
              "        .then(() => maybeLoadScript(\"vega-embed\", \"6\"))\n",
              "        .catch(showError)\n",
              "        .then(() => displayChart(vegaEmbed));\n",
              "    }\n",
              "  })({\"config\": {\"view\": {\"continuousWidth\": 400, \"continuousHeight\": 300}}, \"data\": {\"name\": \"data-48b49d588ae6eb9b42fbde8ba1b3df16\"}, \"mark\": \"boxplot\", \"encoding\": {\"x\": {\"field\": \"manufacturer-name\", \"type\": \"nominal\"}, \"y\": {\"field\": \"sugars\", \"type\": \"quantitative\"}}, \"$schema\": \"https://vega.github.io/schema/vega-lite/v4.17.0.json\", \"datasets\": {\"data-48b49d588ae6eb9b42fbde8ba1b3df16\": [{\"name\": \"100% Bran\", \"mfr\": \"N\", \"type\": \"C\", \"calories\": 70, \"protein\": 4, \"fat\": 1, \"sodium\": 130, \"fiber\": 10.0, \"carbo\": 5.0, \"sugars\": 6, \"potass\": 280, \"vitamins\": 25, \"shelf\": 3, \"weight\": 1.0, \"cups\": 0.33, \"rating\": 68.402973, \"manufacturer-name\": \"Nabisco\"}, {\"name\": \"100% Natural Bran\", \"mfr\": \"Q\", \"type\": \"C\", \"calories\": 120, \"protein\": 3, \"fat\": 5, \"sodium\": 15, \"fiber\": 2.0, \"carbo\": 8.0, \"sugars\": 8, \"potass\": 135, \"vitamins\": 0, \"shelf\": 3, \"weight\": 1.0, \"cups\": 1.0, \"rating\": 33.983679, \"manufacturer-name\": \"Quaker Oats\"}, {\"name\": \"All-Bran\", \"mfr\": \"K\", \"type\": \"C\", \"calories\": 70, \"protein\": 4, \"fat\": 1, \"sodium\": 260, \"fiber\": 9.0, \"carbo\": 7.0, \"sugars\": 5, \"potass\": 320, \"vitamins\": 25, \"shelf\": 3, \"weight\": 1.0, \"cups\": 0.33, \"rating\": 59.425505, \"manufacturer-name\": \"Kelloggs\"}, {\"name\": \"All-Bran with Extra Fiber\", \"mfr\": \"K\", \"type\": \"C\", \"calories\": 50, \"protein\": 4, \"fat\": 0, \"sodium\": 140, \"fiber\": 14.0, \"carbo\": 8.0, \"sugars\": 0, \"potass\": 330, \"vitamins\": 25, \"shelf\": 3, \"weight\": 1.0, \"cups\": 0.5, \"rating\": 93.704912, \"manufacturer-name\": \"Kelloggs\"}, {\"name\": \"Almond Delight\", \"mfr\": \"R\", \"type\": \"C\", \"calories\": 110, \"protein\": 2, \"fat\": 2, \"sodium\": 200, \"fiber\": 1.0, \"carbo\": 14.0, \"sugars\": 8, \"potass\": -1, \"vitamins\": 25, \"shelf\": 3, \"weight\": 1.0, \"cups\": 0.75, \"rating\": 34.384843, \"manufacturer-name\": \"Ralston Purina\"}, {\"name\": \"Apple Cinnamon Cheerios\", \"mfr\": \"G\", \"type\": \"C\", \"calories\": 110, \"protein\": 2, \"fat\": 2, \"sodium\": 180, \"fiber\": 1.5, \"carbo\": 10.5, \"sugars\": 10, \"potass\": 70, \"vitamins\": 25, \"shelf\": 1, \"weight\": 1.0, \"cups\": 0.75, \"rating\": 29.509541, \"manufacturer-name\": \"General Mills\"}, {\"name\": \"Apple Jacks\", \"mfr\": \"K\", \"type\": \"C\", \"calories\": 110, \"protein\": 2, \"fat\": 0, \"sodium\": 125, \"fiber\": 1.0, \"carbo\": 11.0, \"sugars\": 14, \"potass\": 30, \"vitamins\": 25, \"shelf\": 2, \"weight\": 1.0, \"cups\": 1.0, \"rating\": 33.174094, \"manufacturer-name\": \"Kelloggs\"}, {\"name\": \"Basic 4\", \"mfr\": \"G\", \"type\": \"C\", \"calories\": 130, \"protein\": 3, \"fat\": 2, \"sodium\": 210, \"fiber\": 2.0, \"carbo\": 18.0, \"sugars\": 8, \"potass\": 100, \"vitamins\": 25, \"shelf\": 3, \"weight\": 1.33, \"cups\": 0.75, \"rating\": 37.038562, \"manufacturer-name\": \"General Mills\"}, {\"name\": \"Bran Chex\", \"mfr\": \"R\", \"type\": \"C\", \"calories\": 90, \"protein\": 2, \"fat\": 1, \"sodium\": 200, \"fiber\": 4.0, \"carbo\": 15.0, \"sugars\": 6, \"potass\": 125, \"vitamins\": 25, \"shelf\": 1, \"weight\": 1.0, \"cups\": 0.67, \"rating\": 49.120253, \"manufacturer-name\": \"Ralston Purina\"}, {\"name\": \"Bran Flakes\", \"mfr\": \"P\", \"type\": \"C\", \"calories\": 90, \"protein\": 3, \"fat\": 0, \"sodium\": 210, \"fiber\": 5.0, \"carbo\": 13.0, \"sugars\": 5, \"potass\": 190, \"vitamins\": 25, \"shelf\": 3, \"weight\": 1.0, \"cups\": 0.67, \"rating\": 53.313813, \"manufacturer-name\": \"Post\"}, {\"name\": \"Cap'n'Crunch\", \"mfr\": \"Q\", \"type\": \"C\", \"calories\": 120, \"protein\": 1, \"fat\": 2, \"sodium\": 220, \"fiber\": 0.0, \"carbo\": 12.0, \"sugars\": 12, \"potass\": 35, \"vitamins\": 25, \"shelf\": 2, \"weight\": 1.0, \"cups\": 0.75, \"rating\": 18.042851, \"manufacturer-name\": \"Quaker Oats\"}, {\"name\": \"Cheerios\", \"mfr\": \"G\", \"type\": \"C\", \"calories\": 110, \"protein\": 6, \"fat\": 2, \"sodium\": 290, \"fiber\": 2.0, \"carbo\": 17.0, \"sugars\": 1, \"potass\": 105, \"vitamins\": 25, \"shelf\": 1, \"weight\": 1.0, \"cups\": 1.25, \"rating\": 50.764999, \"manufacturer-name\": \"General Mills\"}, {\"name\": \"Cinnamon Toast Crunch\", \"mfr\": \"G\", \"type\": \"C\", \"calories\": 120, \"protein\": 1, \"fat\": 3, \"sodium\": 210, \"fiber\": 0.0, \"carbo\": 13.0, \"sugars\": 9, \"potass\": 45, \"vitamins\": 25, \"shelf\": 2, \"weight\": 1.0, \"cups\": 0.75, \"rating\": 19.823573, \"manufacturer-name\": \"General Mills\"}, {\"name\": \"Clusters\", \"mfr\": \"G\", \"type\": \"C\", \"calories\": 110, \"protein\": 3, \"fat\": 2, \"sodium\": 140, \"fiber\": 2.0, \"carbo\": 13.0, \"sugars\": 7, \"potass\": 105, \"vitamins\": 25, \"shelf\": 3, \"weight\": 1.0, \"cups\": 0.5, \"rating\": 40.400208, \"manufacturer-name\": \"General Mills\"}, {\"name\": \"Cocoa Puffs\", \"mfr\": \"G\", \"type\": \"C\", \"calories\": 110, \"protein\": 1, \"fat\": 1, \"sodium\": 180, \"fiber\": 0.0, \"carbo\": 12.0, \"sugars\": 13, \"potass\": 55, \"vitamins\": 25, \"shelf\": 2, \"weight\": 1.0, \"cups\": 1.0, \"rating\": 22.736446, \"manufacturer-name\": \"General Mills\"}, {\"name\": \"Corn Chex\", \"mfr\": \"R\", \"type\": \"C\", \"calories\": 110, \"protein\": 2, \"fat\": 0, \"sodium\": 280, \"fiber\": 0.0, \"carbo\": 22.0, \"sugars\": 3, \"potass\": 25, \"vitamins\": 25, \"shelf\": 1, \"weight\": 1.0, \"cups\": 1.0, \"rating\": 41.445019, \"manufacturer-name\": \"Ralston Purina\"}, {\"name\": \"Corn Flakes\", \"mfr\": \"K\", \"type\": \"C\", \"calories\": 100, \"protein\": 2, \"fat\": 0, \"sodium\": 290, \"fiber\": 1.0, \"carbo\": 21.0, \"sugars\": 2, \"potass\": 35, \"vitamins\": 25, \"shelf\": 1, \"weight\": 1.0, \"cups\": 1.0, \"rating\": 45.863324, \"manufacturer-name\": \"Kelloggs\"}, {\"name\": \"Corn Pops\", \"mfr\": \"K\", \"type\": \"C\", \"calories\": 110, \"protein\": 1, \"fat\": 0, \"sodium\": 90, \"fiber\": 1.0, \"carbo\": 13.0, \"sugars\": 12, \"potass\": 20, \"vitamins\": 25, \"shelf\": 2, \"weight\": 1.0, \"cups\": 1.0, \"rating\": 35.782791, \"manufacturer-name\": \"Kelloggs\"}, {\"name\": \"Count Chocula\", \"mfr\": \"G\", \"type\": \"C\", \"calories\": 110, \"protein\": 1, \"fat\": 1, \"sodium\": 180, \"fiber\": 0.0, \"carbo\": 12.0, \"sugars\": 13, \"potass\": 65, \"vitamins\": 25, \"shelf\": 2, \"weight\": 1.0, \"cups\": 1.0, \"rating\": 22.396513, \"manufacturer-name\": \"General Mills\"}, {\"name\": \"Cracklin' Oat Bran\", \"mfr\": \"K\", \"type\": \"C\", \"calories\": 110, \"protein\": 3, \"fat\": 3, \"sodium\": 140, \"fiber\": 4.0, \"carbo\": 10.0, \"sugars\": 7, \"potass\": 160, \"vitamins\": 25, \"shelf\": 3, \"weight\": 1.0, \"cups\": 0.5, \"rating\": 40.448772, \"manufacturer-name\": \"Kelloggs\"}, {\"name\": \"Cream of Wheat (Quick)\", \"mfr\": \"N\", \"type\": \"H\", \"calories\": 100, \"protein\": 3, \"fat\": 0, \"sodium\": 80, \"fiber\": 1.0, \"carbo\": 21.0, \"sugars\": 0, \"potass\": -1, \"vitamins\": 0, \"shelf\": 2, \"weight\": 1.0, \"cups\": 1.0, \"rating\": 64.533816, \"manufacturer-name\": \"Nabisco\"}, {\"name\": \"Crispix\", \"mfr\": \"K\", \"type\": \"C\", \"calories\": 110, \"protein\": 2, \"fat\": 0, \"sodium\": 220, \"fiber\": 1.0, \"carbo\": 21.0, \"sugars\": 3, \"potass\": 30, \"vitamins\": 25, \"shelf\": 3, \"weight\": 1.0, \"cups\": 1.0, \"rating\": 46.895644, \"manufacturer-name\": \"Kelloggs\"}, {\"name\": \"Crispy Wheat & Raisins\", \"mfr\": \"G\", \"type\": \"C\", \"calories\": 100, \"protein\": 2, \"fat\": 1, \"sodium\": 140, \"fiber\": 2.0, \"carbo\": 11.0, \"sugars\": 10, \"potass\": 120, \"vitamins\": 25, \"shelf\": 3, \"weight\": 1.0, \"cups\": 0.75, \"rating\": 36.176196, \"manufacturer-name\": \"General Mills\"}, {\"name\": \"Double Chex\", \"mfr\": \"R\", \"type\": \"C\", \"calories\": 100, \"protein\": 2, \"fat\": 0, \"sodium\": 190, \"fiber\": 1.0, \"carbo\": 18.0, \"sugars\": 5, \"potass\": 80, \"vitamins\": 25, \"shelf\": 3, \"weight\": 1.0, \"cups\": 0.75, \"rating\": 44.330856, \"manufacturer-name\": \"Ralston Purina\"}, {\"name\": \"Froot Loops\", \"mfr\": \"K\", \"type\": \"C\", \"calories\": 110, \"protein\": 2, \"fat\": 1, \"sodium\": 125, \"fiber\": 1.0, \"carbo\": 11.0, \"sugars\": 13, \"potass\": 30, \"vitamins\": 25, \"shelf\": 2, \"weight\": 1.0, \"cups\": 1.0, \"rating\": 32.207582, \"manufacturer-name\": \"Kelloggs\"}, {\"name\": \"Frosted Flakes\", \"mfr\": \"K\", \"type\": \"C\", \"calories\": 110, \"protein\": 1, \"fat\": 0, \"sodium\": 200, \"fiber\": 1.0, \"carbo\": 14.0, \"sugars\": 11, \"potass\": 25, \"vitamins\": 25, \"shelf\": 1, \"weight\": 1.0, \"cups\": 0.75, \"rating\": 31.435973, \"manufacturer-name\": \"Kelloggs\"}, {\"name\": \"Frosted Mini-Wheats\", \"mfr\": \"K\", \"type\": \"C\", \"calories\": 100, \"protein\": 3, \"fat\": 0, \"sodium\": 0, \"fiber\": 3.0, \"carbo\": 14.0, \"sugars\": 7, \"potass\": 100, \"vitamins\": 25, \"shelf\": 2, \"weight\": 1.0, \"cups\": 0.8, \"rating\": 58.345141, \"manufacturer-name\": \"Kelloggs\"}, {\"name\": \"Fruit & Fibre Dates; Walnuts; and Oats\", \"mfr\": \"P\", \"type\": \"C\", \"calories\": 120, \"protein\": 3, \"fat\": 2, \"sodium\": 160, \"fiber\": 5.0, \"carbo\": 12.0, \"sugars\": 10, \"potass\": 200, \"vitamins\": 25, \"shelf\": 3, \"weight\": 1.25, \"cups\": 0.67, \"rating\": 40.917047, \"manufacturer-name\": \"Post\"}, {\"name\": \"Fruitful Bran\", \"mfr\": \"K\", \"type\": \"C\", \"calories\": 120, \"protein\": 3, \"fat\": 0, \"sodium\": 240, \"fiber\": 5.0, \"carbo\": 14.0, \"sugars\": 12, \"potass\": 190, \"vitamins\": 25, \"shelf\": 3, \"weight\": 1.33, \"cups\": 0.67, \"rating\": 41.015492, \"manufacturer-name\": \"Kelloggs\"}, {\"name\": \"Fruity Pebbles\", \"mfr\": \"P\", \"type\": \"C\", \"calories\": 110, \"protein\": 1, \"fat\": 1, \"sodium\": 135, \"fiber\": 0.0, \"carbo\": 13.0, \"sugars\": 12, \"potass\": 25, \"vitamins\": 25, \"shelf\": 2, \"weight\": 1.0, \"cups\": 0.75, \"rating\": 28.025765, \"manufacturer-name\": \"Post\"}, {\"name\": \"Golden Crisp\", \"mfr\": \"P\", \"type\": \"C\", \"calories\": 100, \"protein\": 2, \"fat\": 0, \"sodium\": 45, \"fiber\": 0.0, \"carbo\": 11.0, \"sugars\": 15, \"potass\": 40, \"vitamins\": 25, \"shelf\": 1, \"weight\": 1.0, \"cups\": 0.88, \"rating\": 35.252444, \"manufacturer-name\": \"Post\"}, {\"name\": \"Golden Grahams\", \"mfr\": \"G\", \"type\": \"C\", \"calories\": 110, \"protein\": 1, \"fat\": 1, \"sodium\": 280, \"fiber\": 0.0, \"carbo\": 15.0, \"sugars\": 9, \"potass\": 45, \"vitamins\": 25, \"shelf\": 2, \"weight\": 1.0, \"cups\": 0.75, \"rating\": 23.804043, \"manufacturer-name\": \"General Mills\"}, {\"name\": \"Grape Nuts Flakes\", \"mfr\": \"P\", \"type\": \"C\", \"calories\": 100, \"protein\": 3, \"fat\": 1, \"sodium\": 140, \"fiber\": 3.0, \"carbo\": 15.0, \"sugars\": 5, \"potass\": 85, \"vitamins\": 25, \"shelf\": 3, \"weight\": 1.0, \"cups\": 0.88, \"rating\": 52.076897, \"manufacturer-name\": \"Post\"}, {\"name\": \"Grape-Nuts\", \"mfr\": \"P\", \"type\": \"C\", \"calories\": 110, \"protein\": 3, \"fat\": 0, \"sodium\": 170, \"fiber\": 3.0, \"carbo\": 17.0, \"sugars\": 3, \"potass\": 90, \"vitamins\": 25, \"shelf\": 3, \"weight\": 1.0, \"cups\": 0.25, \"rating\": 53.371007, \"manufacturer-name\": \"Post\"}, {\"name\": \"Great Grains Pecan\", \"mfr\": \"P\", \"type\": \"C\", \"calories\": 120, \"protein\": 3, \"fat\": 3, \"sodium\": 75, \"fiber\": 3.0, \"carbo\": 13.0, \"sugars\": 4, \"potass\": 100, \"vitamins\": 25, \"shelf\": 3, \"weight\": 1.0, \"cups\": 0.33, \"rating\": 45.811716, \"manufacturer-name\": \"Post\"}, {\"name\": \"Honey Graham Ohs\", \"mfr\": \"Q\", \"type\": \"C\", \"calories\": 120, \"protein\": 1, \"fat\": 2, \"sodium\": 220, \"fiber\": 1.0, \"carbo\": 12.0, \"sugars\": 11, \"potass\": 45, \"vitamins\": 25, \"shelf\": 2, \"weight\": 1.0, \"cups\": 1.0, \"rating\": 21.871292, \"manufacturer-name\": \"Quaker Oats\"}, {\"name\": \"Honey Nut Cheerios\", \"mfr\": \"G\", \"type\": \"C\", \"calories\": 110, \"protein\": 3, \"fat\": 1, \"sodium\": 250, \"fiber\": 1.5, \"carbo\": 11.5, \"sugars\": 10, \"potass\": 90, \"vitamins\": 25, \"shelf\": 1, \"weight\": 1.0, \"cups\": 0.75, \"rating\": 31.072217, \"manufacturer-name\": \"General Mills\"}, {\"name\": \"Honey-comb\", \"mfr\": \"P\", \"type\": \"C\", \"calories\": 110, \"protein\": 1, \"fat\": 0, \"sodium\": 180, \"fiber\": 0.0, \"carbo\": 14.0, \"sugars\": 11, \"potass\": 35, \"vitamins\": 25, \"shelf\": 1, \"weight\": 1.0, \"cups\": 1.33, \"rating\": 28.742414, \"manufacturer-name\": \"Post\"}, {\"name\": \"Just Right Crunchy  Nuggets\", \"mfr\": \"K\", \"type\": \"C\", \"calories\": 110, \"protein\": 2, \"fat\": 1, \"sodium\": 170, \"fiber\": 1.0, \"carbo\": 17.0, \"sugars\": 6, \"potass\": 60, \"vitamins\": 100, \"shelf\": 3, \"weight\": 1.0, \"cups\": 1.0, \"rating\": 36.523683, \"manufacturer-name\": \"Kelloggs\"}, {\"name\": \"Just Right Fruit & Nut\", \"mfr\": \"K\", \"type\": \"C\", \"calories\": 140, \"protein\": 3, \"fat\": 1, \"sodium\": 170, \"fiber\": 2.0, \"carbo\": 20.0, \"sugars\": 9, \"potass\": 95, \"vitamins\": 100, \"shelf\": 3, \"weight\": 1.3, \"cups\": 0.75, \"rating\": 36.471512, \"manufacturer-name\": \"Kelloggs\"}, {\"name\": \"Kix\", \"mfr\": \"G\", \"type\": \"C\", \"calories\": 110, \"protein\": 2, \"fat\": 1, \"sodium\": 260, \"fiber\": 0.0, \"carbo\": 21.0, \"sugars\": 3, \"potass\": 40, \"vitamins\": 25, \"shelf\": 2, \"weight\": 1.0, \"cups\": 1.5, \"rating\": 39.241114, \"manufacturer-name\": \"General Mills\"}, {\"name\": \"Life\", \"mfr\": \"Q\", \"type\": \"C\", \"calories\": 100, \"protein\": 4, \"fat\": 2, \"sodium\": 150, \"fiber\": 2.0, \"carbo\": 12.0, \"sugars\": 6, \"potass\": 95, \"vitamins\": 25, \"shelf\": 2, \"weight\": 1.0, \"cups\": 0.67, \"rating\": 45.328074, \"manufacturer-name\": \"Quaker Oats\"}, {\"name\": \"Lucky Charms\", \"mfr\": \"G\", \"type\": \"C\", \"calories\": 110, \"protein\": 2, \"fat\": 1, \"sodium\": 180, \"fiber\": 0.0, \"carbo\": 12.0, \"sugars\": 12, \"potass\": 55, \"vitamins\": 25, \"shelf\": 2, \"weight\": 1.0, \"cups\": 1.0, \"rating\": 26.734515, \"manufacturer-name\": \"General Mills\"}, {\"name\": \"Maypo\", \"mfr\": \"A\", \"type\": \"H\", \"calories\": 100, \"protein\": 4, \"fat\": 1, \"sodium\": 0, \"fiber\": 0.0, \"carbo\": 16.0, \"sugars\": 3, \"potass\": 95, \"vitamins\": 25, \"shelf\": 2, \"weight\": 1.0, \"cups\": 1.0, \"rating\": 54.850917, \"manufacturer-name\": \"American Home Food Products\"}, {\"name\": \"Muesli Raisins; Dates; & Almonds\", \"mfr\": \"R\", \"type\": \"C\", \"calories\": 150, \"protein\": 4, \"fat\": 3, \"sodium\": 95, \"fiber\": 3.0, \"carbo\": 16.0, \"sugars\": 11, \"potass\": 170, \"vitamins\": 25, \"shelf\": 3, \"weight\": 1.0, \"cups\": 1.0, \"rating\": 37.136863, \"manufacturer-name\": \"Ralston Purina\"}, {\"name\": \"Muesli Raisins; Peaches; & Pecans\", \"mfr\": \"R\", \"type\": \"C\", \"calories\": 150, \"protein\": 4, \"fat\": 3, \"sodium\": 150, \"fiber\": 3.0, \"carbo\": 16.0, \"sugars\": 11, \"potass\": 170, \"vitamins\": 25, \"shelf\": 3, \"weight\": 1.0, \"cups\": 1.0, \"rating\": 34.139765, \"manufacturer-name\": \"Ralston Purina\"}, {\"name\": \"Mueslix Crispy Blend\", \"mfr\": \"K\", \"type\": \"C\", \"calories\": 160, \"protein\": 3, \"fat\": 2, \"sodium\": 150, \"fiber\": 3.0, \"carbo\": 17.0, \"sugars\": 13, \"potass\": 160, \"vitamins\": 25, \"shelf\": 3, \"weight\": 1.5, \"cups\": 0.67, \"rating\": 30.313351, \"manufacturer-name\": \"Kelloggs\"}, {\"name\": \"Multi-Grain Cheerios\", \"mfr\": \"G\", \"type\": \"C\", \"calories\": 100, \"protein\": 2, \"fat\": 1, \"sodium\": 220, \"fiber\": 2.0, \"carbo\": 15.0, \"sugars\": 6, \"potass\": 90, \"vitamins\": 25, \"shelf\": 1, \"weight\": 1.0, \"cups\": 1.0, \"rating\": 40.105965, \"manufacturer-name\": \"General Mills\"}, {\"name\": \"Nut&Honey Crunch\", \"mfr\": \"K\", \"type\": \"C\", \"calories\": 120, \"protein\": 2, \"fat\": 1, \"sodium\": 190, \"fiber\": 0.0, \"carbo\": 15.0, \"sugars\": 9, \"potass\": 40, \"vitamins\": 25, \"shelf\": 2, \"weight\": 1.0, \"cups\": 0.67, \"rating\": 29.924285, \"manufacturer-name\": \"Kelloggs\"}, {\"name\": \"Nutri-Grain Almond-Raisin\", \"mfr\": \"K\", \"type\": \"C\", \"calories\": 140, \"protein\": 3, \"fat\": 2, \"sodium\": 220, \"fiber\": 3.0, \"carbo\": 21.0, \"sugars\": 7, \"potass\": 130, \"vitamins\": 25, \"shelf\": 3, \"weight\": 1.33, \"cups\": 0.67, \"rating\": 40.69232, \"manufacturer-name\": \"Kelloggs\"}, {\"name\": \"Nutri-grain Wheat\", \"mfr\": \"K\", \"type\": \"C\", \"calories\": 90, \"protein\": 3, \"fat\": 0, \"sodium\": 170, \"fiber\": 3.0, \"carbo\": 18.0, \"sugars\": 2, \"potass\": 90, \"vitamins\": 25, \"shelf\": 3, \"weight\": 1.0, \"cups\": 1.0, \"rating\": 59.642837, \"manufacturer-name\": \"Kelloggs\"}, {\"name\": \"Oatmeal Raisin Crisp\", \"mfr\": \"G\", \"type\": \"C\", \"calories\": 130, \"protein\": 3, \"fat\": 2, \"sodium\": 170, \"fiber\": 1.5, \"carbo\": 13.5, \"sugars\": 10, \"potass\": 120, \"vitamins\": 25, \"shelf\": 3, \"weight\": 1.25, \"cups\": 0.5, \"rating\": 30.450843, \"manufacturer-name\": \"General Mills\"}, {\"name\": \"Post Nat. Raisin Bran\", \"mfr\": \"P\", \"type\": \"C\", \"calories\": 120, \"protein\": 3, \"fat\": 1, \"sodium\": 200, \"fiber\": 6.0, \"carbo\": 11.0, \"sugars\": 14, \"potass\": 260, \"vitamins\": 25, \"shelf\": 3, \"weight\": 1.33, \"cups\": 0.67, \"rating\": 37.840594, \"manufacturer-name\": \"Post\"}, {\"name\": \"Product 19\", \"mfr\": \"K\", \"type\": \"C\", \"calories\": 100, \"protein\": 3, \"fat\": 0, \"sodium\": 320, \"fiber\": 1.0, \"carbo\": 20.0, \"sugars\": 3, \"potass\": 45, \"vitamins\": 100, \"shelf\": 3, \"weight\": 1.0, \"cups\": 1.0, \"rating\": 41.50354, \"manufacturer-name\": \"Kelloggs\"}, {\"name\": \"Puffed Rice\", \"mfr\": \"Q\", \"type\": \"C\", \"calories\": 50, \"protein\": 1, \"fat\": 0, \"sodium\": 0, \"fiber\": 0.0, \"carbo\": 13.0, \"sugars\": 0, \"potass\": 15, \"vitamins\": 0, \"shelf\": 3, \"weight\": 0.5, \"cups\": 1.0, \"rating\": 60.756112, \"manufacturer-name\": \"Quaker Oats\"}, {\"name\": \"Puffed Wheat\", \"mfr\": \"Q\", \"type\": \"C\", \"calories\": 50, \"protein\": 2, \"fat\": 0, \"sodium\": 0, \"fiber\": 1.0, \"carbo\": 10.0, \"sugars\": 0, \"potass\": 50, \"vitamins\": 0, \"shelf\": 3, \"weight\": 0.5, \"cups\": 1.0, \"rating\": 63.005645, \"manufacturer-name\": \"Quaker Oats\"}, {\"name\": \"Quaker Oat Squares\", \"mfr\": \"Q\", \"type\": \"C\", \"calories\": 100, \"protein\": 4, \"fat\": 1, \"sodium\": 135, \"fiber\": 2.0, \"carbo\": 14.0, \"sugars\": 6, \"potass\": 110, \"vitamins\": 25, \"shelf\": 3, \"weight\": 1.0, \"cups\": 0.5, \"rating\": 49.511874, \"manufacturer-name\": \"Quaker Oats\"}, {\"name\": \"Quaker Oatmeal\", \"mfr\": \"Q\", \"type\": \"H\", \"calories\": 100, \"protein\": 5, \"fat\": 2, \"sodium\": 0, \"fiber\": 2.7, \"carbo\": -1.0, \"sugars\": -1, \"potass\": 110, \"vitamins\": 0, \"shelf\": 1, \"weight\": 1.0, \"cups\": 0.67, \"rating\": 50.828392, \"manufacturer-name\": \"Quaker Oats\"}, {\"name\": \"Raisin Bran\", \"mfr\": \"K\", \"type\": \"C\", \"calories\": 120, \"protein\": 3, \"fat\": 1, \"sodium\": 210, \"fiber\": 5.0, \"carbo\": 14.0, \"sugars\": 12, \"potass\": 240, \"vitamins\": 25, \"shelf\": 2, \"weight\": 1.33, \"cups\": 0.75, \"rating\": 39.259197, \"manufacturer-name\": \"Kelloggs\"}, {\"name\": \"Raisin Nut Bran\", \"mfr\": \"G\", \"type\": \"C\", \"calories\": 100, \"protein\": 3, \"fat\": 2, \"sodium\": 140, \"fiber\": 2.5, \"carbo\": 10.5, \"sugars\": 8, \"potass\": 140, \"vitamins\": 25, \"shelf\": 3, \"weight\": 1.0, \"cups\": 0.5, \"rating\": 39.7034, \"manufacturer-name\": \"General Mills\"}, {\"name\": \"Raisin Squares\", \"mfr\": \"K\", \"type\": \"C\", \"calories\": 90, \"protein\": 2, \"fat\": 0, \"sodium\": 0, \"fiber\": 2.0, \"carbo\": 15.0, \"sugars\": 6, \"potass\": 110, \"vitamins\": 25, \"shelf\": 3, \"weight\": 1.0, \"cups\": 0.5, \"rating\": 55.333142, \"manufacturer-name\": \"Kelloggs\"}, {\"name\": \"Rice Chex\", \"mfr\": \"R\", \"type\": \"C\", \"calories\": 110, \"protein\": 1, \"fat\": 0, \"sodium\": 240, \"fiber\": 0.0, \"carbo\": 23.0, \"sugars\": 2, \"potass\": 30, \"vitamins\": 25, \"shelf\": 1, \"weight\": 1.0, \"cups\": 1.13, \"rating\": 41.998933, \"manufacturer-name\": \"Ralston Purina\"}, {\"name\": \"Rice Krispies\", \"mfr\": \"K\", \"type\": \"C\", \"calories\": 110, \"protein\": 2, \"fat\": 0, \"sodium\": 290, \"fiber\": 0.0, \"carbo\": 22.0, \"sugars\": 3, \"potass\": 35, \"vitamins\": 25, \"shelf\": 1, \"weight\": 1.0, \"cups\": 1.0, \"rating\": 40.560159, \"manufacturer-name\": \"Kelloggs\"}, {\"name\": \"Shredded Wheat\", \"mfr\": \"N\", \"type\": \"C\", \"calories\": 80, \"protein\": 2, \"fat\": 0, \"sodium\": 0, \"fiber\": 3.0, \"carbo\": 16.0, \"sugars\": 0, \"potass\": 95, \"vitamins\": 0, \"shelf\": 1, \"weight\": 0.83, \"cups\": 1.0, \"rating\": 68.235885, \"manufacturer-name\": \"Nabisco\"}, {\"name\": \"Shredded Wheat 'n'Bran\", \"mfr\": \"N\", \"type\": \"C\", \"calories\": 90, \"protein\": 3, \"fat\": 0, \"sodium\": 0, \"fiber\": 4.0, \"carbo\": 19.0, \"sugars\": 0, \"potass\": 140, \"vitamins\": 0, \"shelf\": 1, \"weight\": 1.0, \"cups\": 0.67, \"rating\": 74.472949, \"manufacturer-name\": \"Nabisco\"}, {\"name\": \"Shredded Wheat spoon size\", \"mfr\": \"N\", \"type\": \"C\", \"calories\": 90, \"protein\": 3, \"fat\": 0, \"sodium\": 0, \"fiber\": 3.0, \"carbo\": 20.0, \"sugars\": 0, \"potass\": 120, \"vitamins\": 0, \"shelf\": 1, \"weight\": 1.0, \"cups\": 0.67, \"rating\": 72.801787, \"manufacturer-name\": \"Nabisco\"}, {\"name\": \"Smacks\", \"mfr\": \"K\", \"type\": \"C\", \"calories\": 110, \"protein\": 2, \"fat\": 1, \"sodium\": 70, \"fiber\": 1.0, \"carbo\": 9.0, \"sugars\": 15, \"potass\": 40, \"vitamins\": 25, \"shelf\": 2, \"weight\": 1.0, \"cups\": 0.75, \"rating\": 31.230054, \"manufacturer-name\": \"Kelloggs\"}, {\"name\": \"Special K\", \"mfr\": \"K\", \"type\": \"C\", \"calories\": 110, \"protein\": 6, \"fat\": 0, \"sodium\": 230, \"fiber\": 1.0, \"carbo\": 16.0, \"sugars\": 3, \"potass\": 55, \"vitamins\": 25, \"shelf\": 1, \"weight\": 1.0, \"cups\": 1.0, \"rating\": 53.131324, \"manufacturer-name\": \"Kelloggs\"}, {\"name\": \"Strawberry Fruit Wheats\", \"mfr\": \"N\", \"type\": \"C\", \"calories\": 90, \"protein\": 2, \"fat\": 0, \"sodium\": 15, \"fiber\": 3.0, \"carbo\": 15.0, \"sugars\": 5, \"potass\": 90, \"vitamins\": 25, \"shelf\": 2, \"weight\": 1.0, \"cups\": 1.0, \"rating\": 59.363993, \"manufacturer-name\": \"Nabisco\"}, {\"name\": \"Total Corn Flakes\", \"mfr\": \"G\", \"type\": \"C\", \"calories\": 110, \"protein\": 2, \"fat\": 1, \"sodium\": 200, \"fiber\": 0.0, \"carbo\": 21.0, \"sugars\": 3, \"potass\": 35, \"vitamins\": 100, \"shelf\": 3, \"weight\": 1.0, \"cups\": 1.0, \"rating\": 38.839746, \"manufacturer-name\": \"General Mills\"}, {\"name\": \"Total Raisin Bran\", \"mfr\": \"G\", \"type\": \"C\", \"calories\": 140, \"protein\": 3, \"fat\": 1, \"sodium\": 190, \"fiber\": 4.0, \"carbo\": 15.0, \"sugars\": 14, \"potass\": 230, \"vitamins\": 100, \"shelf\": 3, \"weight\": 1.5, \"cups\": 1.0, \"rating\": 28.592785, \"manufacturer-name\": \"General Mills\"}, {\"name\": \"Total Whole Grain\", \"mfr\": \"G\", \"type\": \"C\", \"calories\": 100, \"protein\": 3, \"fat\": 1, \"sodium\": 200, \"fiber\": 3.0, \"carbo\": 16.0, \"sugars\": 3, \"potass\": 110, \"vitamins\": 100, \"shelf\": 3, \"weight\": 1.0, \"cups\": 1.0, \"rating\": 46.658844, \"manufacturer-name\": \"General Mills\"}, {\"name\": \"Triples\", \"mfr\": \"G\", \"type\": \"C\", \"calories\": 110, \"protein\": 2, \"fat\": 1, \"sodium\": 250, \"fiber\": 0.0, \"carbo\": 21.0, \"sugars\": 3, \"potass\": 60, \"vitamins\": 25, \"shelf\": 3, \"weight\": 1.0, \"cups\": 0.75, \"rating\": 39.106174, \"manufacturer-name\": \"General Mills\"}, {\"name\": \"Trix\", \"mfr\": \"G\", \"type\": \"C\", \"calories\": 110, \"protein\": 1, \"fat\": 1, \"sodium\": 140, \"fiber\": 0.0, \"carbo\": 13.0, \"sugars\": 12, \"potass\": 25, \"vitamins\": 25, \"shelf\": 2, \"weight\": 1.0, \"cups\": 1.0, \"rating\": 27.753301, \"manufacturer-name\": \"General Mills\"}, {\"name\": \"Wheat Chex\", \"mfr\": \"R\", \"type\": \"C\", \"calories\": 100, \"protein\": 3, \"fat\": 1, \"sodium\": 230, \"fiber\": 3.0, \"carbo\": 17.0, \"sugars\": 3, \"potass\": 115, \"vitamins\": 25, \"shelf\": 1, \"weight\": 1.0, \"cups\": 0.67, \"rating\": 49.787445, \"manufacturer-name\": \"Ralston Purina\"}, {\"name\": \"Wheaties\", \"mfr\": \"G\", \"type\": \"C\", \"calories\": 100, \"protein\": 3, \"fat\": 1, \"sodium\": 200, \"fiber\": 3.0, \"carbo\": 17.0, \"sugars\": 3, \"potass\": 110, \"vitamins\": 25, \"shelf\": 1, \"weight\": 1.0, \"cups\": 1.0, \"rating\": 51.592193, \"manufacturer-name\": \"General Mills\"}, {\"name\": \"Wheaties Honey Gold\", \"mfr\": \"G\", \"type\": \"C\", \"calories\": 110, \"protein\": 2, \"fat\": 1, \"sodium\": 200, \"fiber\": 1.0, \"carbo\": 16.0, \"sugars\": 8, \"potass\": 60, \"vitamins\": 25, \"shelf\": 1, \"weight\": 1.0, \"cups\": 0.75, \"rating\": 36.187559, \"manufacturer-name\": \"General Mills\"}]}}, {\"mode\": \"vega-lite\"});\n",
              "</script>"
            ],
            "text/plain": [
              "alt.Chart(...)"
            ]
          },
          "metadata": {},
          "execution_count": 26
        }
      ],
      "source": [
        "# Create the three visualzations requested by the the marketing team\n",
        "alt.Chart(cereal_data).mark_bar().encode(\n",
        "    alt.X(\"sugars\", bin=alt.Bin(step=1)),\n",
        "    y = \"count(sugars)\"\n",
        ")\n",
        "\n",
        "alt.Chart(cereal_data).mark_point().encode(\n",
        "    x=\"sugars\",\n",
        "    y=\"calories\"\n",
        ")\n",
        "\n",
        "alt.Chart(cereal_data).mark_boxplot().encode(\n",
        "    x=\"manufacturer-name\",\n",
        "    y=\"sugars\"\n",
        ")"
      ]
    },
    {
      "cell_type": "markdown",
      "metadata": {
        "id": "7EA2lAfbYRAc"
      },
      "source": [
        "# Part 5: Dietary Calculations\n",
        "\n",
        "The marketing team has been able to arrange a partnership between the popular Weight Watchers diet brand and Kelloggs cereal.\n",
        "\n",
        "The Weight Watchers system assigns a point value to each food, and participants in the program are allotted a certain number of points each day.\n",
        "\n",
        "One recent formula for calculating points is:\n",
        "\n",
        "    (Calories * .0305) + (Fat * .275) + (Sugar * .12) - (Protein * .098)\n",
        "\n",
        "With the final answer being rounded to the nearest integer.\n",
        "\n",
        "First, [add a new column](https://pandas.pydata.org/docs/getting_started/intro_tutorials/05_add_columns.html) with the Weight Watchers point calculation derived from the existing data. \n",
        "\n",
        "**Be sure to round the number to the nearest int and store the data as an int, not as a float with 0 decimals.**\n",
        "\n",
        "Then, [select a subset of the data](https://pandas.pydata.org/docs/getting_started/intro_tutorials/03_subset_data.html#how-do-i-filter-specific-rows-from-a-dataframe) containing just cereals manufactured by Kelloggs.\n",
        "\n",
        "Finally, calculate the same summary statistics for the points calculations as earlier (mean, median, standard deviation, min, and max)."
      ]
    },
    {
      "cell_type": "code",
      "execution_count": 32,
      "metadata": {
        "id": "MOxV7Fy232GM",
        "vscode": {
          "languageId": "python"
        },
        "outputId": "c464e21d-912c-4303-982b-1c67856c2103",
        "colab": {
          "base_uri": "https://localhost:8080/"
        }
      },
      "outputs": [
        {
          "output_type": "stream",
          "name": "stdout",
          "text": [
            "                         name mfr type  calories  protein  fat  sodium  fiber  \\\n",
            "0                   100% Bran   N    C        70        4    1     130   10.0   \n",
            "1           100% Natural Bran   Q    C       120        3    5      15    2.0   \n",
            "2                    All-Bran   K    C        70        4    1     260    9.0   \n",
            "3   All-Bran with Extra Fiber   K    C        50        4    0     140   14.0   \n",
            "4              Almond Delight   R    C       110        2    2     200    1.0   \n",
            "..                        ...  ..  ...       ...      ...  ...     ...    ...   \n",
            "72                    Triples   G    C       110        2    1     250    0.0   \n",
            "73                       Trix   G    C       110        1    1     140    0.0   \n",
            "74                 Wheat Chex   R    C       100        3    1     230    3.0   \n",
            "75                   Wheaties   G    C       100        3    1     200    3.0   \n",
            "76        Wheaties Honey Gold   G    C       110        2    1     200    1.0   \n",
            "\n",
            "    carbo  sugars  potass  vitamins  shelf  weight  cups     rating  \\\n",
            "0     5.0       6     280        25      3     1.0  0.33  68.402973   \n",
            "1     8.0       8     135         0      3     1.0  1.00  33.983679   \n",
            "2     7.0       5     320        25      3     1.0  0.33  59.425505   \n",
            "3     8.0       0     330        25      3     1.0  0.50  93.704912   \n",
            "4    14.0       8      -1        25      3     1.0  0.75  34.384843   \n",
            "..    ...     ...     ...       ...    ...     ...   ...        ...   \n",
            "72   21.0       3      60        25      3     1.0  0.75  39.106174   \n",
            "73   13.0      12      25        25      2     1.0  1.00  27.753301   \n",
            "74   17.0       3     115        25      1     1.0  0.67  49.787445   \n",
            "75   17.0       3     110        25      1     1.0  1.00  51.592193   \n",
            "76   16.0       8      60        25      1     1.0  0.75  36.187559   \n",
            "\n",
            "   manufacturer-name  points  \n",
            "0            Nabisco       2  \n",
            "1        Quaker Oats       5  \n",
            "2           Kelloggs       2  \n",
            "3           Kelloggs       1  \n",
            "4     Ralston Purina       4  \n",
            "..               ...     ...  \n",
            "72     General Mills       3  \n",
            "73     General Mills       4  \n",
            "74    Ralston Purina       3  \n",
            "75     General Mills       3  \n",
            "76     General Mills       4  \n",
            "\n",
            "[77 rows x 18 columns]\n",
            "                           name mfr type  calories  protein  fat  sodium  \\\n",
            "2                      All-Bran   K    C        70        4    1     260   \n",
            "3     All-Bran with Extra Fiber   K    C        50        4    0     140   \n",
            "6                   Apple Jacks   K    C       110        2    0     125   \n",
            "16                  Corn Flakes   K    C       100        2    0     290   \n",
            "17                    Corn Pops   K    C       110        1    0      90   \n",
            "19           Cracklin' Oat Bran   K    C       110        3    3     140   \n",
            "21                      Crispix   K    C       110        2    0     220   \n",
            "24                  Froot Loops   K    C       110        2    1     125   \n",
            "25               Frosted Flakes   K    C       110        1    0     200   \n",
            "26          Frosted Mini-Wheats   K    C       100        3    0       0   \n",
            "28                Fruitful Bran   K    C       120        3    0     240   \n",
            "38  Just Right Crunchy  Nuggets   K    C       110        2    1     170   \n",
            "39       Just Right Fruit & Nut   K    C       140        3    1     170   \n",
            "46         Mueslix Crispy Blend   K    C       160        3    2     150   \n",
            "48             Nut&Honey Crunch   K    C       120        2    1     190   \n",
            "49    Nutri-Grain Almond-Raisin   K    C       140        3    2     220   \n",
            "50            Nutri-grain Wheat   K    C        90        3    0     170   \n",
            "53                   Product 19   K    C       100        3    0     320   \n",
            "58                  Raisin Bran   K    C       120        3    1     210   \n",
            "60               Raisin Squares   K    C        90        2    0       0   \n",
            "62                Rice Krispies   K    C       110        2    0     290   \n",
            "66                       Smacks   K    C       110        2    1      70   \n",
            "67                    Special K   K    C       110        6    0     230   \n",
            "\n",
            "    fiber  carbo  sugars  potass  vitamins  shelf  weight  cups     rating  \\\n",
            "2     9.0    7.0       5     320        25      3    1.00  0.33  59.425505   \n",
            "3    14.0    8.0       0     330        25      3    1.00  0.50  93.704912   \n",
            "6     1.0   11.0      14      30        25      2    1.00  1.00  33.174094   \n",
            "16    1.0   21.0       2      35        25      1    1.00  1.00  45.863324   \n",
            "17    1.0   13.0      12      20        25      2    1.00  1.00  35.782791   \n",
            "19    4.0   10.0       7     160        25      3    1.00  0.50  40.448772   \n",
            "21    1.0   21.0       3      30        25      3    1.00  1.00  46.895644   \n",
            "24    1.0   11.0      13      30        25      2    1.00  1.00  32.207582   \n",
            "25    1.0   14.0      11      25        25      1    1.00  0.75  31.435973   \n",
            "26    3.0   14.0       7     100        25      2    1.00  0.80  58.345141   \n",
            "28    5.0   14.0      12     190        25      3    1.33  0.67  41.015492   \n",
            "38    1.0   17.0       6      60       100      3    1.00  1.00  36.523683   \n",
            "39    2.0   20.0       9      95       100      3    1.30  0.75  36.471512   \n",
            "46    3.0   17.0      13     160        25      3    1.50  0.67  30.313351   \n",
            "48    0.0   15.0       9      40        25      2    1.00  0.67  29.924285   \n",
            "49    3.0   21.0       7     130        25      3    1.33  0.67  40.692320   \n",
            "50    3.0   18.0       2      90        25      3    1.00  1.00  59.642837   \n",
            "53    1.0   20.0       3      45       100      3    1.00  1.00  41.503540   \n",
            "58    5.0   14.0      12     240        25      2    1.33  0.75  39.259197   \n",
            "60    2.0   15.0       6     110        25      3    1.00  0.50  55.333142   \n",
            "62    0.0   22.0       3      35        25      1    1.00  1.00  40.560159   \n",
            "66    1.0    9.0      15      40        25      2    1.00  0.75  31.230054   \n",
            "67    1.0   16.0       3      55        25      1    1.00  1.00  53.131324   \n",
            "\n",
            "   manufacturer-name  points  \n",
            "2           Kelloggs       2  \n",
            "3           Kelloggs       1  \n",
            "6           Kelloggs       4  \n",
            "16          Kelloggs       3  \n",
            "17          Kelloggs       4  \n",
            "19          Kelloggs       4  \n",
            "21          Kelloggs       3  \n",
            "24          Kelloggs       4  \n",
            "25          Kelloggs       4  \n",
            "26          Kelloggs       3  \n",
            "28          Kelloggs       4  \n",
            "38          Kelloggs       4  \n",
            "39          Kelloggs       5  \n",
            "46          Kelloggs       6  \n",
            "48          Kelloggs       4  \n",
            "49          Kelloggs       5  \n",
            "50          Kelloggs       2  \n",
            "53          Kelloggs       3  \n",
            "58          Kelloggs       5  \n",
            "60          Kelloggs       3  \n",
            "62          Kelloggs       3  \n",
            "66          Kelloggs       5  \n",
            "67          Kelloggs       3  \n"
          ]
        }
      ],
      "source": [
        "point_calc = {}\n",
        "\n",
        "for index in cereal_data.index:\n",
        "  points = (cereal_data['calories'][index] * 0.0305) + (cereal_data['fat'][index] * 0.275) + (cereal_data['sugars'][index] * 0.12) - (cereal_data['protein'][index] * 0.098)\n",
        "  point_calc[cereal_data[\"name\"][index]] = int(points)\n",
        "\n",
        "cereal_data['points'] = cereal_data[\"name\"].map(point_calc)\n",
        "print(cereal_data)\n",
        "\n",
        "kellogs = cereal_data[cereal_data['mfr'] == \"K\"]\n",
        "print(kellogs) "
      ]
    },
    {
      "cell_type": "markdown",
      "metadata": {
        "id": "3tOuwFOZYvVP"
      },
      "source": [
        "## 🌟 Above and Beyond 🌟\n",
        "\n",
        "The marketing team is pleased with what you've accomplished so far. They have a meeting with top cereal executives in the morning, and they'd like you to do as many of the following additional tasks as you have time for:\n",
        "\n",
        "1. Weight Watchers used to have an older points system that used this formula: `(calories / 50) + (fat / 12) - (fiber / 5)`, but only the first 4 grams of fiber were included in the calculation. For comparison's sake, create an additional column with the calculation for the old points system.\n",
        "\n",
        "2. Marketing really likes the boxplot of the sugar content for each cereal, they'd like similar plots for calories and fat, but using different color schemes for each chart."
      ]
    },
    {
      "cell_type": "code",
      "source": [
        "point_fiber= {}\n",
        "\n",
        "for index in cereal_data.index:\n",
        "  fiber = cereal_data['fiber'][index]\n",
        "  if(fiber > 4):\n",
        "      fiber = 4\n",
        "  points = (cereal_data['calories'][index] / 50) + (cereal_data['fat'][index] / 12) - (fiber / 5)\n",
        "  point_fiber[cereal_data[\"name\"][index]] = int(points)\n",
        "\n",
        "cereal_data['old-points'] = cereal_data[\"name\"].map(point_fiber)\n",
        "print(cereal_data)"
      ],
      "metadata": {
        "id": "YGiHQYU3bMnX",
        "outputId": "e45ec78a-5d6b-4b74-81e7-58c8d45a7df4",
        "colab": {
          "base_uri": "https://localhost:8080/"
        }
      },
      "execution_count": 34,
      "outputs": [
        {
          "output_type": "stream",
          "name": "stdout",
          "text": [
            "                         name mfr type  calories  protein  fat  sodium  fiber  \\\n",
            "0                   100% Bran   N    C        70        4    1     130   10.0   \n",
            "1           100% Natural Bran   Q    C       120        3    5      15    2.0   \n",
            "2                    All-Bran   K    C        70        4    1     260    9.0   \n",
            "3   All-Bran with Extra Fiber   K    C        50        4    0     140   14.0   \n",
            "4              Almond Delight   R    C       110        2    2     200    1.0   \n",
            "..                        ...  ..  ...       ...      ...  ...     ...    ...   \n",
            "72                    Triples   G    C       110        2    1     250    0.0   \n",
            "73                       Trix   G    C       110        1    1     140    0.0   \n",
            "74                 Wheat Chex   R    C       100        3    1     230    3.0   \n",
            "75                   Wheaties   G    C       100        3    1     200    3.0   \n",
            "76        Wheaties Honey Gold   G    C       110        2    1     200    1.0   \n",
            "\n",
            "    carbo  sugars  potass  vitamins  shelf  weight  cups     rating  \\\n",
            "0     5.0       6     280        25      3     1.0  0.33  68.402973   \n",
            "1     8.0       8     135         0      3     1.0  1.00  33.983679   \n",
            "2     7.0       5     320        25      3     1.0  0.33  59.425505   \n",
            "3     8.0       0     330        25      3     1.0  0.50  93.704912   \n",
            "4    14.0       8      -1        25      3     1.0  0.75  34.384843   \n",
            "..    ...     ...     ...       ...    ...     ...   ...        ...   \n",
            "72   21.0       3      60        25      3     1.0  0.75  39.106174   \n",
            "73   13.0      12      25        25      2     1.0  1.00  27.753301   \n",
            "74   17.0       3     115        25      1     1.0  0.67  49.787445   \n",
            "75   17.0       3     110        25      1     1.0  1.00  51.592193   \n",
            "76   16.0       8      60        25      1     1.0  0.75  36.187559   \n",
            "\n",
            "   manufacturer-name  points  old-points  \n",
            "0            Nabisco       2           0  \n",
            "1        Quaker Oats       5           2  \n",
            "2           Kelloggs       2           0  \n",
            "3           Kelloggs       1           0  \n",
            "4     Ralston Purina       4           2  \n",
            "..               ...     ...         ...  \n",
            "72     General Mills       3           2  \n",
            "73     General Mills       4           2  \n",
            "74    Ralston Purina       3           1  \n",
            "75     General Mills       3           1  \n",
            "76     General Mills       4           2  \n",
            "\n",
            "[77 rows x 19 columns]\n"
          ]
        }
      ]
    }
  ],
  "metadata": {
    "colab": {
      "name": "Exploration-02.ipynb",
      "provenance": []
    },
    "kernelspec": {
      "display_name": "Python 3",
      "name": "python3"
    }
  },
  "nbformat": 4,
  "nbformat_minor": 0
}